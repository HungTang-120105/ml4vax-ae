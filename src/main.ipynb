{
 "cells": [
  {
   "cell_type": "code",
   "execution_count": null,
   "metadata": {
    "execution": {
     "iopub.execute_input": "2025-05-09T10:14:52.136000Z",
     "iopub.status.busy": "2025-05-09T10:14:52.135047Z",
     "iopub.status.idle": "2025-05-09T10:15:03.052995Z",
     "shell.execute_reply": "2025-05-09T10:15:03.051996Z",
     "shell.execute_reply.started": "2025-05-09T10:14:52.135973Z"
    },
    "id": "N8X7E2E4WEWc",
    "outputId": "22cce357-9eee-48b3-a441-2372533d303d",
    "trusted": true
   },
   "outputs": [],
   "source": [
    "import pandas as pd\n",
    "import numpy as np\n",
    "import matplotlib.pyplot as plt\n",
    "\n",
    "from sklearn.linear_model import (LogisticRegression, SGDClassifier)\n",
    "from sklearn.ensemble import (RandomForestClassifier,  GradientBoostingClassifier)\n",
    "from sklearn.neural_network import MLPClassifier\n",
    "from sklearn.metrics import (classification_report, roc_auc_score, jaccard_score)\n",
    "from sklearn.model_selection import train_test_split\n",
    "from sklearn.preprocessing import (StandardScaler, MultiLabelBinarizer)\n",
    "from sklearn.decomposition import PCA\n",
    "from sklearn.discriminant_analysis import LinearDiscriminantAnalysis as LDA\n",
    "from sklearn.multioutput import MultiOutputClassifier\n",
    "from sklearn.tree import DecisionTreeClassifier\n",
    "from collections import Counter\n",
    "from sklearn.base import clone"
   ]
  },
  {
   "cell_type": "code",
   "execution_count": null,
   "metadata": {
    "execution": {
     "iopub.execute_input": "2025-05-09T10:15:03.295291Z",
     "iopub.status.busy": "2025-05-09T10:15:03.294161Z",
     "iopub.status.idle": "2025-05-09T10:15:03.302608Z",
     "shell.execute_reply": "2025-05-09T10:15:03.301336Z",
     "shell.execute_reply.started": "2025-05-09T10:15:03.295257Z"
    },
    "id": "roMkgPXfWUlE",
    "outputId": "0a8ec647-20ed-4910-db64-d1f213d8ca46",
    "trusted": true
   },
   "outputs": [],
   "source": [
    "df1 = pd.read_csv('/kaggle/input/vaers1fill/vaers1fill.csv', encoding=\"ISO-8859-1\")\n",
    "df = df1.head(100000).copy()\n",
    "df.columns"
   ]
  },
  {
   "cell_type": "code",
   "execution_count": null,
   "metadata": {
    "execution": {
     "iopub.execute_input": "2025-05-09T10:15:05.728882Z",
     "iopub.status.busy": "2025-05-09T10:15:05.728508Z",
     "iopub.status.idle": "2025-05-09T10:15:06.213749Z",
     "shell.execute_reply": "2025-05-09T10:15:06.212763Z",
     "shell.execute_reply.started": "2025-05-09T10:15:05.728860Z"
    },
    "id": "ePW6oLvRYXYN",
    "outputId": "24520ccb-e02d-41d4-898d-4cff4909cd31",
    "trusted": true
   },
   "outputs": [],
   "source": [
    "# Lấy tất cả triệu chứng từ SYMPTOM1-5 và ghép thành 1 list\n",
    "all_symptoms = []\n",
    "for col in ['SYMPTOM1', 'SYMPTOM2', 'SYMPTOM3', 'SYMPTOM4', 'SYMPTOM5']:\n",
    "    symptoms = df[col].dropna().str.lower().tolist()  # Chuyển về chữ thường để chuẩn hóa\n",
    "    all_symptoms.extend(symptoms)\n",
    "\n",
    "# Đếm tần suất triệu chứng\n",
    "from collections import Counter\n",
    "symptom_counts = Counter(all_symptoms)\n",
    "\n",
    "print(\"Top 20 triệu chứng phổ biến:\")\n",
    "for symptom, count in symptom_counts.most_common(20):\n",
    "    print(f\"{symptom}: {count} reports\")\n",
    "\n",
    "plt.figure(figsize=(10, 6))\n",
    "pd.Series(dict(symptom_counts.most_common(20))).plot(kind='barh')\n",
    "plt.title('Top 20 Symptoms Frequency')\n",
    "plt.show()"
   ]
  },
  {
   "cell_type": "code",
   "execution_count": null,
   "metadata": {
    "execution": {
     "iopub.execute_input": "2025-05-09T09:57:13.107400Z",
     "iopub.status.busy": "2025-05-09T09:57:13.107041Z",
     "iopub.status.idle": "2025-05-09T09:57:13.113175Z",
     "shell.execute_reply": "2025-05-09T09:57:13.111802Z",
     "shell.execute_reply.started": "2025-05-09T09:57:13.107375Z"
    },
    "id": "U2dp9xlkQQ6q",
    "outputId": "f70ea2e2-d59e-4f70-fa34-16e0587e7469",
    "trusted": true
   },
   "outputs": [],
   "source": [
    "print(len(df1))"
   ]
  },
  {
   "cell_type": "code",
   "execution_count": null,
   "metadata": {
    "execution": {
     "iopub.execute_input": "2025-05-09T09:57:15.170333Z",
     "iopub.status.busy": "2025-05-09T09:57:15.169431Z",
     "iopub.status.idle": "2025-05-09T09:57:15.743180Z",
     "shell.execute_reply": "2025-05-09T09:57:15.742219Z",
     "shell.execute_reply.started": "2025-05-09T09:57:15.170304Z"
    },
    "id": "xMGBx93EcOON",
    "trusted": true
   },
   "outputs": [],
   "source": [
    "df = df1.head(100000).copy()\n",
    "\n",
    "symptom_cols = ['SYMPTOM1', 'SYMPTOM2', 'SYMPTOM3', 'SYMPTOM4', 'SYMPTOM5']\n",
    "outcome_cols = ['DIED', 'L_THREAT', 'DISABLE', 'HOSPITAL', 'ER_VISIT']\n",
    "\n",
    "# Gán nhãn SEVERE từ các cột hậu quả\n",
    "df['SEVERE'] = df[outcome_cols].eq('Y').any(axis=1).astype(int)\n",
    "\n",
    "# Loại bỏ dòng không có triệu chứng\n",
    "df_symptoms = df[symptom_cols + ['SEVERE']].dropna(subset=symptom_cols, how='all')\n",
    "\n",
    "def combine_symptoms(row):\n",
    "    return list(filter(pd.notnull, [row[col] for col in symptom_cols]))\n",
    "\n",
    "df_symptoms['SYMPTOM_LIST'] = df_symptoms.apply(combine_symptoms, axis=1)\n",
    "\n",
    "mlb = MultiLabelBinarizer()\n",
    "X = mlb.fit_transform(df_symptoms['SYMPTOM_LIST'])\n",
    "y = df_symptoms['SEVERE'].values\n",
    "\n",
    "scaler = StandardScaler()\n",
    "X_scaled = scaler.fit_transform(X)\n"
   ]
  },
  {
   "cell_type": "code",
   "execution_count": null,
   "metadata": {
    "execution": {
     "iopub.execute_input": "2025-05-09T09:57:26.697230Z",
     "iopub.status.busy": "2025-05-09T09:57:26.696868Z",
     "iopub.status.idle": "2025-05-09T09:57:26.704285Z",
     "shell.execute_reply": "2025-05-09T09:57:26.703187Z",
     "shell.execute_reply.started": "2025-05-09T09:57:26.697207Z"
    },
    "id": "OLOQXNtOZEhl",
    "outputId": "c68123c3-6aba-4331-fda3-3cf1a3885fc4",
    "trusted": true
   },
   "outputs": [],
   "source": [
    "num_label_1 = np.sum(y == 1)\n",
    "percent_label_1 = np.mean(y == 1) * 100\n",
    "\n",
    "print(f\"Số lượng nhãn 1 (nghiêm trọng): {num_label_1}\")\n",
    "print(f\"Tỷ lệ nhãn 1 (nghiêm trọng): {percent_label_1:.2f}%\")"
   ]
  },
  {
   "cell_type": "code",
   "execution_count": null,
   "metadata": {
    "execution": {
     "iopub.execute_input": "2025-05-09T09:57:29.051414Z",
     "iopub.status.busy": "2025-05-09T09:57:29.051094Z",
     "iopub.status.idle": "2025-05-09T09:57:29.090520Z",
     "shell.execute_reply": "2025-05-09T09:57:29.089462Z",
     "shell.execute_reply.started": "2025-05-09T09:57:29.051394Z"
    },
    "id": "2xwjD-HQnvDY",
    "trusted": true
   },
   "outputs": [],
   "source": [
    "\n",
    "X_train, X_test, y_train, y_test = train_test_split(\n",
    "    X_scaled, y, test_size=0.2, random_state=42, stratify=y\n",
    ")"
   ]
  },
  {
   "cell_type": "markdown",
   "metadata": {
    "id": "DTXm1xdumQk4"
   },
   "source": [
    "## Part 1a  \n",
    "Dự đoán triệu chứng có dẫn đến tình trạng nghiệm trọng hay không, và lấy ra 20 triệu chứng quan trọng nhất ảnh hưởng đến việc dự đoán"
   ]
  },
  {
   "cell_type": "code",
   "execution_count": null,
   "metadata": {
    "execution": {
     "iopub.execute_input": "2025-05-09T09:57:32.458326Z",
     "iopub.status.busy": "2025-05-09T09:57:32.457873Z",
     "iopub.status.idle": "2025-05-09T09:57:43.760014Z",
     "shell.execute_reply": "2025-05-09T09:57:43.759181Z",
     "shell.execute_reply.started": "2025-05-09T09:57:32.458294Z"
    },
    "id": "0mmiO-kBUMGy",
    "outputId": "4ac6cb8d-7639-4358-f920-1efa249be61d",
    "trusted": true
   },
   "outputs": [],
   "source": [
    "models = {\n",
    "    'Random Forest': RandomForestClassifier(class_weight='balanced', random_state=42),\n",
    "    'Logistic Regression': LogisticRegression(max_iter=300, random_state=42),\n",
    "    'Support Vector Machine' : SGDClassifier(loss='hinge', class_weight='balanced', random_state=42),\n",
    "    'MLP (2 layers)': MLPClassifier(hidden_layer_sizes=(100, 50), max_iter=250, random_state=42)\n",
    "}\n",
    "\n",
    "# Lưu trữ đặc trưng quan trọng từ các mô hình\n",
    "feature_importance_dict = {}\n",
    "\n",
    "for name, model in models.items():\n",
    "    model.fit(X_train, y_train)\n",
    "\n",
    "    y_pred = model.predict(X_test)\n",
    "    if hasattr(model, \"predict_proba\"):\n",
    "        y_pred_proba = model.predict_proba(X_test)[:, 1]\n",
    "    else:\n",
    "        y_pred_proba = model.decision_function(X_test)  # Dùng score để tính AUC\n",
    "    print(f\"=== {name} ===\")\n",
    "    print(classification_report(y_test, y_pred, digits=4))\n",
    "\n",
    "    auc = roc_auc_score(y_test, y_pred_proba)\n",
    "    print(f\"AUC-ROC Score: {auc:.4f}\")\n",
    "\n",
    "    # Lấy 20 đặc trưng quan trọng nhất\n",
    "    if name == 'Random Forest':\n",
    "        imp_rf = model.feature_importances_\n",
    "        idx_rf = np.argsort(imp_rf)[::-1][:20]\n",
    "        feature_importance_dict['Random Forest'] = idx_rf\n",
    "        print(\"Top 20 Features (Random Forest):\", idx_rf)\n",
    "\n",
    "    elif name == 'Logistic Regression':\n",
    "        imp_lr = np.abs(model.coef_).ravel()\n",
    "        idx_lr = np.argsort(imp_lr)[::-1][:20]\n",
    "        feature_importance_dict['Logistic Regression'] = idx_lr\n",
    "        print(\"Top 20 Features (Logistic Regression):\", idx_lr)\n",
    "\n",
    "    elif name == 'Support Vector Machine':\n",
    "        if hasattr(model, 'coef_'):\n",
    "            imp_svm = np.abs(model.coef_).ravel()\n",
    "            idx_svm = np.argsort(imp_svm)[::-1][:20]\n",
    "            feature_importance_dict['Support Vector Machine'] = idx_svm\n",
    "            print(\"Top 20 Features (SVM):\", idx_svm)\n",
    "\n",
    "    elif name == 'MLP (2 layers)':\n",
    "        imp_mlp = np.sum(np.abs(model.coefs_[0]), axis=1)\n",
    "        idx_mlp = np.argsort(imp_mlp)[::-1][:20]\n",
    "        feature_importance_dict['MLP (2 layers)'] = idx_mlp\n",
    "        print(\"Top 20 Features (MLP):\", idx_mlp)\n",
    "\n",
    "    print(\"\\n\" + \"-\"*50 + \"\\n\")\n",
    "\n",
    "# Tổng hợp các đặc trưng quan trọng từ tất cả các mô hình\n",
    "all_importances = []\n",
    "for model_name, features in feature_importance_dict.items():\n",
    "    all_importances.extend(features)\n",
    "\n",
    "feature_counts = Counter(all_importances)\n",
    "\n",
    "top_20_features = [feature for feature, _ in feature_counts.most_common(20)]\n",
    "\n",
    "print(\"Top 20 Features (Total from All Models):\", top_20_features)\n"
   ]
  },
  {
   "cell_type": "code",
   "execution_count": null,
   "metadata": {
    "execution": {
     "iopub.execute_input": "2025-05-09T09:58:06.099869Z",
     "iopub.status.busy": "2025-05-09T09:58:06.099444Z",
     "iopub.status.idle": "2025-05-09T09:58:06.108965Z",
     "shell.execute_reply": "2025-05-09T09:58:06.107781Z",
     "shell.execute_reply.started": "2025-05-09T09:58:06.099846Z"
    },
    "id": "Exgn8cM_eec3",
    "outputId": "d6bd8355-0f0d-4b0d-9587-a2b978bf3b8f",
    "trusted": true
   },
   "outputs": [],
   "source": [
    "# Lấy tên triệu chứng từ MultiLabelBinarizer\n",
    "symptom_names = mlb.classes_\n",
    "\n",
    "feature_importance_dict_with_names = {}\n",
    "for model_name, feature_indices in feature_importance_dict.items():\n",
    "    feature_importance_dict_with_names[model_name] = [symptom_names[i] for i in feature_indices]\n",
    "\n",
    "for model_name, features in feature_importance_dict_with_names.items():\n",
    "    print(f\"Top 20 Features ({model_name}):\")\n",
    "    for i, feature in enumerate(features, 1):\n",
    "        print(f\"{i}. {feature}\")\n",
    "    print(\"\\n\" + \"-\"*50 + \"\\n\")\n",
    "\n",
    "all_importances_with_names = []\n",
    "for model_name, features in feature_importance_dict_with_names.items():\n",
    "    all_importances_with_names.extend(features)\n",
    "\n",
    "feature_counts_with_names = Counter(all_importances_with_names)\n",
    "\n",
    "# Chọn 20 triệu chứng quan trọng nhất (theo tần suất xuất hiện)\n",
    "top_20_features_with_names = [feature for feature, _ in feature_counts_with_names.most_common(20)]\n",
    "\n",
    "print(\"Top 20 Most Important Symptoms (Across All Models):\")\n",
    "for i, feature in enumerate(top_20_features_with_names, 1):\n",
    "    print(f\"{i}. {feature}\")"
   ]
  },
  {
   "cell_type": "markdown",
   "metadata": {
    "id": "cIKi2aXEmHWX"
   },
   "source": [
    "## Part 1b\n",
    "Sử dụng các thuật toán giảm chiều dữ liệu để so sánh độ chính xác khi dự đoán tình trạng nghiêm trọng"
   ]
  },
  {
   "cell_type": "code",
   "execution_count": null,
   "metadata": {
    "execution": {
     "iopub.execute_input": "2025-05-09T10:01:37.948485Z",
     "iopub.status.busy": "2025-05-09T10:01:37.947847Z",
     "iopub.status.idle": "2025-05-09T10:01:49.105488Z",
     "shell.execute_reply": "2025-05-09T10:01:49.104574Z",
     "shell.execute_reply.started": "2025-05-09T10:01:37.948462Z"
    },
    "id": "Ji5cqT0zmKsh",
    "outputId": "c39abb7c-4cd3-4341-e941-f1cc6bafc32a",
    "trusted": true
   },
   "outputs": [],
   "source": [
    "print(f\"Số chiều ban đầu của dữ liệu: {X_train.shape[1]}\")\n",
    "\n",
    "# PCA - Principal Component Analysis\n",
    "pca = PCA(n_components = 5)\n",
    "X_train_pca = pca.fit_transform(X_train)\n",
    "X_test_pca = pca.transform(X_test)\n",
    "\n",
    "print(f\"Số chiều sau PCA: {pca.n_components_}\")\n",
    "\n",
    "\n",
    "# LDA - Linear Discriminant Analysis\n",
    "lda = LDA(n_components=1)  \n",
    "X_train_lda = lda.fit_transform(X_train, y_train)\n",
    "X_test_lda = lda.transform(X_test)\n",
    "\n",
    "print(f\"Số chiều sau LDA: {X_train_lda.shape[1]}\")\n",
    "\n",
    "\n",
    "models = {\n",
    "    'Random Forest': RandomForestClassifier(class_weight='balanced', random_state=42),\n",
    "    'Logistic Regression': LogisticRegression(max_iter=300, random_state=42),\n",
    "    'Support Vector Machine' : SGDClassifier(loss='hinge', class_weight='balanced', random_state=42),\n",
    "    'MLP (2 layers)': MLPClassifier(hidden_layer_sizes=(100, 50), max_iter=250, random_state=42)\n",
    "}\n",
    "\n",
    "\n",
    "print(\"=== SO SÁNH CÁC MÔ HÌNH VỚI GIẢM CHIỀU DỮ LIỆU ===\\n\")\n",
    "\n",
    "print(\"== Sử dụng PCA (5 thành phần) ==\")\n",
    "for name, model in models.items():\n",
    "    model.fit(X_train_pca, y_train)\n",
    "    y_pred = model.predict(X_test_pca)\n",
    "    if hasattr(model, \"predict_proba\"):\n",
    "        y_pred_proba = model.predict_proba(X_test_pca)[:, 1]\n",
    "    else:\n",
    "        y_pred_proba = model.decision_function(X_test_pca)  \n",
    "    print(f\"=== {name} ===\")\n",
    "    print(classification_report(y_test, y_pred, digits=4))\n",
    "    auc = roc_auc_score(y_test, y_pred_proba)\n",
    "    print(f\"AUC-ROC Score: {auc:.4f}\")\n",
    "    print(\"\\n\" + \"-\"*50 + \"\\n\")\n",
    "\n",
    "print(\"== Sử dụng LDA (2 thành phần) ==\")\n",
    "for name, model in models.items():\n",
    "    model.fit(X_train_lda, y_train)\n",
    "    y_pred = model.predict(X_test_lda)\n",
    "    if hasattr(model, \"predict_proba\"):\n",
    "        y_pred_proba = model.predict_proba(X_test_lda)[:, 1]\n",
    "    else:\n",
    "        y_pred_proba = model.decision_function(X_test_lda)  \n",
    "    print(f\"=== {name} ===\")\n",
    "    print(classification_report(y_test, y_pred, digits=4))\n",
    "    auc = roc_auc_score(y_test, y_pred_proba)\n",
    "    print(f\"AUC-ROC Score: {auc:.4f}\")\n",
    "    print(\"\\n\" + \"-\"*50 + \"\\n\")\n"
   ]
  },
  {
   "cell_type": "markdown",
   "metadata": {
    "id": "gt4zgIBtgTlb"
   },
   "source": [
    "# Part 2"
   ]
  },
  {
   "cell_type": "code",
   "execution_count": null,
   "metadata": {
    "execution": {
     "iopub.execute_input": "2025-05-09T10:02:38.362164Z",
     "iopub.status.busy": "2025-05-09T10:02:38.361861Z",
     "iopub.status.idle": "2025-05-09T10:02:40.098808Z",
     "shell.execute_reply": "2025-05-09T10:02:40.097803Z",
     "shell.execute_reply.started": "2025-05-09T10:02:38.362144Z"
    },
    "id": "A34h1uH7gWz0",
    "trusted": true
   },
   "outputs": [],
   "source": [
    "df = df1.head(100000).copy()\n",
    "\n",
    "df.iloc[:, 52:57] = df.iloc[:, 52:57].fillna(0)     \n",
    "df.iloc[:, 65:79] = df.iloc[:, 65:79].fillna(0)    \n",
    "\n",
    "df = df[(df['SEX'] != 'U') &\n",
    "        (df['VAX_MANU'] != 'UNKNOWN MANUFACTURER') &\n",
    "        (df['AGE_YRS'] > 11)]\n",
    "\n",
    "symptom_cols = ['SYMPTOM1','SYMPTOM2','SYMPTOM3','SYMPTOM4','SYMPTOM5']\n",
    "history_cols = df.columns[65:79].tolist()\n",
    "numeric_raw = ['AGE_YRS', 'othermeds', 'allergies', 'disable', 'curr_ill']\n",
    "covariates = [\"AGE_YRS\", \"SEX\", \"VAX_MANU\", \"othermeds\", \"allergies\", \"disable\"] + history_cols\n",
    "\n",
    "df.dropna(subset=covariates, inplace=True)  \n",
    "scaler = StandardScaler()\n",
    "df[numeric_raw] = scaler.fit_transform(df[numeric_raw])\n",
    "\n",
    "top_20_symptoms = top_20_features_with_names\n",
    "\n",
    "def extract_symptoms(row):\n",
    "    return [s.strip() for s in row[symptom_cols].astype(str).tolist() if s.strip()!='' and s.strip() in top_20_symptoms]\n",
    "\n",
    "mlb = MultiLabelBinarizer(classes=top_20_symptoms)\n",
    "y = mlb.fit_transform(df.apply(extract_symptoms, axis=1))\n",
    "\n",
    "X = pd.get_dummies(df[[\"AGE_YRS\", \"SEX\", \"VAX_MANU\", \"othermeds\", \"allergies\", \"disable\"] + history_cols],\n",
    "                   drop_first=True)\n",
    "\n",
    "X_train, X_test, y_train, y_test = train_test_split(X, y, test_size=0.2, random_state=42)\n",
    "\n"
   ]
  },
  {
   "cell_type": "code",
   "execution_count": null,
   "metadata": {
    "execution": {
     "iopub.status.busy": "2025-05-09T09:56:35.465436Z",
     "iopub.status.idle": "2025-05-09T09:56:35.465868Z",
     "shell.execute_reply": "2025-05-09T09:56:35.465702Z",
     "shell.execute_reply.started": "2025-05-09T09:56:35.465661Z"
    },
    "id": "J3Oo_LLJi72i",
    "outputId": "0f734c5d-4c00-4474-b76b-5d80ec74a962",
    "trusted": true
   },
   "outputs": [],
   "source": [
    "X.columns"
   ]
  },
  {
   "cell_type": "code",
   "execution_count": null,
   "metadata": {
    "execution": {
     "iopub.execute_input": "2025-05-09T10:02:44.710061Z",
     "iopub.status.busy": "2025-05-09T10:02:44.709743Z",
     "iopub.status.idle": "2025-05-09T10:04:41.695972Z",
     "shell.execute_reply": "2025-05-09T10:04:41.694824Z",
     "shell.execute_reply.started": "2025-05-09T10:02:44.710041Z"
    },
    "id": "XYx9BxqohfTJ",
    "trusted": true
   },
   "outputs": [],
   "source": [
    "# ensemble\n",
    "clf1 = LogisticRegression(max_iter=300, class_weight='balanced', random_state=42)\n",
    "clf2 = RandomForestClassifier(n_estimators=100, class_weight='balanced', random_state=42)\n",
    "clf3 = MLPClassifier(hidden_layer_sizes=(100, 50), max_iter=250, random_state=42)\n",
    "clf4 = GradientBoostingClassifier(n_estimators=100, random_state=42)\n",
    "clf5 = SGDClassifier(loss='hinge', class_weight='balanced', random_state=42)\n",
    "clf6 = DecisionTreeClassifier(class_weight='balanced', random_state=42)\n",
    "\n",
    "base_models = [clf1, clf2, clf3, clf4, clf5, clf6]\n",
    "trained_models = []\n",
    "\n",
    "for base_clf in base_models:\n",
    "    clf = MultiOutputClassifier(clone(base_clf))\n",
    "    clf.fit(X_train, y_train)\n",
    "    trained_models.append(clf)\n",
    "\n",
    "# Custom soft voting ưu tiên mẫu dương với quy tắc ít nhất 2 mô hình đoán là 1\n",
    "n_labels = y_test.shape[1]\n",
    "y_pred_custom = np.zeros_like(y_test)\n",
    "\n",
    "for i in range(n_labels):\n",
    "    # Lấy xác suất của label 1 từ từng model cho nhãn thứ i\n",
    "    probas = []\n",
    "    for model in trained_models:\n",
    "        estimator = model.estimators_[i]\n",
    "        if hasattr(estimator, \"predict_proba\"):\n",
    "            proba = estimator.predict_proba(X_test)[:, 1]\n",
    "        elif hasattr(estimator, \"decision_function\"):\n",
    "            scores = estimator.decision_function(X_test)\n",
    "            proba = 1 / (1 + np.exp(-scores))\n",
    "        else:\n",
    "            raise ValueError(f\"Model {estimator} doesn't support predict_proba or decision_function.\")\n",
    "        probas.append(proba)\n",
    "    probas = np.array(probas)\n",
    "\n",
    "    # Quy tắc voting: nếu có ít nhất 2 model đoán là 1 thì predict = 1\n",
    "    y_pred_custom[:, i] = (probas >= 0.5).sum(axis=0) >= 2  \n",
    "    y_pred_custom[:, i] = y_pred_custom[:, i].astype(int)\n",
    "\n",
    "print(classification_report(y_test, y_pred_custom))\n"
   ]
  },
  {
   "cell_type": "code",
   "execution_count": null,
   "metadata": {
    "execution": {
     "iopub.execute_input": "2025-05-09T10:04:41.698184Z",
     "iopub.status.busy": "2025-05-09T10:04:41.697779Z",
     "iopub.status.idle": "2025-05-09T10:04:42.304721Z",
     "shell.execute_reply": "2025-05-09T10:04:42.303825Z",
     "shell.execute_reply.started": "2025-05-09T10:04:41.698153Z"
    },
    "id": "p5K-iWmb7Omj",
    "outputId": "a2db5f82-2abe-4706-9d95-898cf629f565",
    "trusted": true
   },
   "outputs": [],
   "source": [
    "print(\"\\n[ENSEMBLE-CUSTOM] Đánh giá theo từng triệu chứng:\")\n",
    "for i, sym in enumerate(top_20_symptoms):\n",
    "    print(f\"\\n>>> {sym}:\")\n",
    "    print(classification_report(y_test[:, i], y_pred_custom[:, i], zero_division=0))\n",
    "\n",
    "# Jaccard score\n",
    "print(\"\\n[ENSEMBLE-CUSTOM] Jaccard Score (samples average):\",\n",
    "      jaccard_score(y_test, y_pred_custom, average='samples'))\n",
    "\n",
    "# AUC-ROC\n",
    "print(\"\\n[ENSEMBLE-CUSTOM] AUC-ROC cho từng triệu chứng:\")\n",
    "for i, sym in enumerate(top_20_symptoms):\n",
    "    if np.sum(y_test[:, i]) == 0:\n",
    "        print(f\"{sym}: Bỏ qua (không có nhãn dương trong test)\")\n",
    "        continue\n",
    "    proba = trained_models[1].estimators_[i].predict_proba(X_test)[:, 1]\n",
    "    auc = roc_auc_score(y_test[:, i], proba)\n",
    "    print(f\"{sym}: AUC = {auc:.4f}\")"
   ]
  }
 ],
 "metadata": {
  "colab": {
   "provenance": []
  },
  "kaggle": {
   "accelerator": "none",
   "dataSources": [
    {
     "datasetId": 7365618,
     "sourceId": 11733062,
     "sourceType": "datasetVersion"
    }
   ],
   "dockerImageVersionId": 31012,
   "isGpuEnabled": false,
   "isInternetEnabled": true,
   "language": "python",
   "sourceType": "notebook"
  },
  "kernelspec": {
   "display_name": "env",
   "language": "python",
   "name": "python3"
  },
  "language_info": {
   "codemirror_mode": {
    "name": "ipython",
    "version": 3
   },
   "file_extension": ".py",
   "mimetype": "text/x-python",
   "name": "python",
   "nbconvert_exporter": "python",
   "pygments_lexer": "ipython3",
   "version": "3.11.6"
  }
 },
 "nbformat": 4,
 "nbformat_minor": 4
}
